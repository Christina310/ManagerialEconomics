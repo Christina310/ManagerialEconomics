{
 "cells": [
  {
   "metadata": {},
   "cell_type": "markdown",
   "source": [
    "# Demand Analysis\n",
    "## Data Source: http:\n",
    "description-----\n",
    "## Note\n",
    "copyright: "
   ],
   "id": "ac7cb1e199572048"
  },
  {
   "metadata": {
    "ExecuteTime": {
     "end_time": "2024-03-21T17:49:42.416103Z",
     "start_time": "2024-03-21T17:49:42.412719Z"
    }
   },
   "cell_type": "code",
   "source": [
    "import pandas as pd\n",
    "     "
   ],
   "id": "a861fef56db0f3b",
   "outputs": [],
   "execution_count": 2
  },
  {
   "metadata": {
    "ExecuteTime": {
     "end_time": "2024-03-21T17:49:43.160498Z",
     "start_time": "2024-03-21T17:49:43.156828Z"
    }
   },
   "cell_type": "code",
   "source": [
    "def de_fn(a):\n",
    "    a = a+1\n",
    "    return a\n",
    "b = de_fn(1)\n",
    "print(b)"
   ],
   "id": "531dd8339106597f",
   "outputs": [
    {
     "name": "stdout",
     "output_type": "stream",
     "text": [
      "2\n"
     ]
    }
   ],
   "execution_count": 3
  },
  {
   "metadata": {},
   "cell_type": "code",
   "outputs": [],
   "execution_count": null,
   "source": "",
   "id": "9644ddca393ff282"
  }
 ],
 "metadata": {
  "kernelspec": {
   "display_name": "Python 3",
   "language": "python",
   "name": "python3"
  },
  "language_info": {
   "codemirror_mode": {
    "name": "ipython",
    "version": 2
   },
   "file_extension": ".py",
   "mimetype": "text/x-python",
   "name": "python",
   "nbconvert_exporter": "python",
   "pygments_lexer": "ipython2",
   "version": "2.7.6"
  }
 },
 "nbformat": 4,
 "nbformat_minor": 5
}
