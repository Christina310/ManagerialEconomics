{
 "cells": [
  {
   "metadata": {},
   "cell_type": "code",
   "outputs": [],
   "execution_count": null,
   "source": [
    "import pandas as pd\n",
    "     "
   ],
   "id": "a861fef56db0f3b"
  },
  {
   "metadata": {},
   "cell_type": "markdown",
   "source": [
    "# Demand Analysis\n",
    "## Data Source: http:\n",
    "description-----\n",
    "## Note\n",
    "copyright: "
   ],
   "id": "ac7cb1e199572048"
  },
  {
   "metadata": {},
   "cell_type": "markdown",
   "source": "111",
   "id": "e8c18fde210a60e"
  },
  {
   "metadata": {
    "ExecuteTime": {
     "end_time": "2024-03-21T17:18:58.316631Z",
     "start_time": "2024-03-21T17:18:58.311863Z"
    }
   },
   "cell_type": "code",
   "source": [
    "def de_fn(a):\n",
    "    a = a+1\n",
    "    return a\n",
    "b = de_fn(1)\n",
    "print(b)"
   ],
   "id": "531dd8339106597f",
   "outputs": [
    {
     "name": "stdout",
     "output_type": "stream",
     "text": [
      "2\n"
     ]
    }
   ],
   "execution_count": 1
  },
  {
   "metadata": {},
   "cell_type": "code",
   "outputs": [],
   "execution_count": null,
   "source": "",
   "id": "9644ddca393ff282"
  }
 ],
 "metadata": {
  "kernelspec": {
   "display_name": "Python 3",
   "language": "python",
   "name": "python3"
  },
  "language_info": {
   "codemirror_mode": {
    "name": "ipython",
    "version": 2
   },
   "file_extension": ".py",
   "mimetype": "text/x-python",
   "name": "python",
   "nbconvert_exporter": "python",
   "pygments_lexer": "ipython2",
   "version": "2.7.6"
  }
 },
 "nbformat": 4,
 "nbformat_minor": 5
}
